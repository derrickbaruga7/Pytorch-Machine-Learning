{
 "cells": [
  {
   "cell_type": "markdown",
   "metadata": {},
   "source": [
    "# Online Behavior ML model"
   ]
  },
  {
   "cell_type": "markdown",
   "metadata": {},
   "source": [
    "### Import libraries"
   ]
  },
  {
   "cell_type": "code",
   "execution_count": 1,
   "metadata": {},
   "outputs": [],
   "source": [
    "import pandas as pd\n",
    "import numpy as np\n",
    "import torch\n",
    "import torch.nn as nn\n",
    "import torch.optim as optim\n",
    "from sklearn.model_selection import train_test_split\n",
    "from sklearn.preprocessing import StandardScaler\n",
    "from torch.utils.data import DataLoader, TensorDataset\n",
    "import matplotlib\n",
    "matplotlib.use('Agg')\n",
    "import matplotlib.pyplot as plt\n",
    "from sklearn.model_selection import train_test_split\n",
    "from sklearn.ensemble import RandomForestRegressor\n",
    "from sklearn.metrics import mean_absolute_error, mean_squared_error"
   ]
  },
  {
   "cell_type": "markdown",
   "metadata": {},
   "source": [
    "### Load the dataset"
   ]
  },
  {
   "cell_type": "code",
   "execution_count": 2,
   "metadata": {},
   "outputs": [],
   "source": [
    "file_path = '/Users/derrickmarkbavaudbaruga/Documents/fall 2024/Extra Xtra/talkn bout practice/magsafe/ml models/3 Online Behavior/online_shoppers_intention.csv'\n",
    "df = pd.read_csv(file_path)"
   ]
  },
  {
   "cell_type": "markdown",
   "metadata": {},
   "source": [
    "### Display the first few rows of the dataframe"
   ]
  },
  {
   "cell_type": "code",
   "execution_count": 3,
   "metadata": {},
   "outputs": [
    {
     "name": "stdout",
     "output_type": "stream",
     "text": [
      "Initial Data Preview:\n",
      "   Administrative  Administrative_Duration  Informational  \\\n",
      "0               0                      0.0              0   \n",
      "1               0                      0.0              0   \n",
      "2               0                      0.0              0   \n",
      "3               0                      0.0              0   \n",
      "4               0                      0.0              0   \n",
      "\n",
      "   Informational_Duration  ProductRelated  ProductRelated_Duration  \\\n",
      "0                     0.0               1                 0.000000   \n",
      "1                     0.0               2                64.000000   \n",
      "2                     0.0               1                 0.000000   \n",
      "3                     0.0               2                 2.666667   \n",
      "4                     0.0              10               627.500000   \n",
      "\n",
      "   BounceRates  ExitRates  PageValues  SpecialDay Month  OperatingSystems  \\\n",
      "0         0.20       0.20         0.0         0.0   Feb                 1   \n",
      "1         0.00       0.10         0.0         0.0   Feb                 2   \n",
      "2         0.20       0.20         0.0         0.0   Feb                 4   \n",
      "3         0.05       0.14         0.0         0.0   Feb                 3   \n",
      "4         0.02       0.05         0.0         0.0   Feb                 3   \n",
      "\n",
      "   Browser  Region  TrafficType        VisitorType  Weekend  Revenue  \n",
      "0        1       1            1  Returning_Visitor    False    False  \n",
      "1        2       1            2  Returning_Visitor    False    False  \n",
      "2        1       9            3  Returning_Visitor    False    False  \n",
      "3        2       2            4  Returning_Visitor    False    False  \n",
      "4        3       1            4  Returning_Visitor     True    False  \n"
     ]
    }
   ],
   "source": [
    "print(\"Initial Data Preview:\")\n",
    "print(df.head())"
   ]
  },
  {
   "cell_type": "markdown",
   "metadata": {},
   "source": [
    "### Summary Statistics"
   ]
  },
  {
   "cell_type": "code",
   "execution_count": 4,
   "metadata": {},
   "outputs": [
    {
     "name": "stdout",
     "output_type": "stream",
     "text": [
      "        Administrative  Administrative_Duration  Informational  \\\n",
      "count     12330.000000             12330.000000   12330.000000   \n",
      "unique             NaN                      NaN            NaN   \n",
      "top                NaN                      NaN            NaN   \n",
      "freq               NaN                      NaN            NaN   \n",
      "mean          2.315166                80.818611       0.503569   \n",
      "std           3.321784               176.779107       1.270156   \n",
      "min           0.000000                 0.000000       0.000000   \n",
      "25%           0.000000                 0.000000       0.000000   \n",
      "50%           1.000000                 7.500000       0.000000   \n",
      "75%           4.000000                93.256250       0.000000   \n",
      "max          27.000000              3398.750000      24.000000   \n",
      "\n",
      "        Informational_Duration  ProductRelated  ProductRelated_Duration  \\\n",
      "count             12330.000000    12330.000000             12330.000000   \n",
      "unique                     NaN             NaN                      NaN   \n",
      "top                        NaN             NaN                      NaN   \n",
      "freq                       NaN             NaN                      NaN   \n",
      "mean                 34.472398       31.731468              1194.746220   \n",
      "std                 140.749294       44.475503              1913.669288   \n",
      "min                   0.000000        0.000000                 0.000000   \n",
      "25%                   0.000000        7.000000               184.137500   \n",
      "50%                   0.000000       18.000000               598.936905   \n",
      "75%                   0.000000       38.000000              1464.157214   \n",
      "max                2549.375000      705.000000             63973.522230   \n",
      "\n",
      "         BounceRates     ExitRates    PageValues    SpecialDay  Month  \\\n",
      "count   12330.000000  12330.000000  12330.000000  12330.000000  12330   \n",
      "unique           NaN           NaN           NaN           NaN     10   \n",
      "top              NaN           NaN           NaN           NaN    May   \n",
      "freq             NaN           NaN           NaN           NaN   3364   \n",
      "mean        0.022191      0.043073      5.889258      0.061427    NaN   \n",
      "std         0.048488      0.048597     18.568437      0.198917    NaN   \n",
      "min         0.000000      0.000000      0.000000      0.000000    NaN   \n",
      "25%         0.000000      0.014286      0.000000      0.000000    NaN   \n",
      "50%         0.003112      0.025156      0.000000      0.000000    NaN   \n",
      "75%         0.016813      0.050000      0.000000      0.000000    NaN   \n",
      "max         0.200000      0.200000    361.763742      1.000000    NaN   \n",
      "\n",
      "        OperatingSystems       Browser        Region   TrafficType  \\\n",
      "count       12330.000000  12330.000000  12330.000000  12330.000000   \n",
      "unique               NaN           NaN           NaN           NaN   \n",
      "top                  NaN           NaN           NaN           NaN   \n",
      "freq                 NaN           NaN           NaN           NaN   \n",
      "mean            2.124006      2.357097      3.147364      4.069586   \n",
      "std             0.911325      1.717277      2.401591      4.025169   \n",
      "min             1.000000      1.000000      1.000000      1.000000   \n",
      "25%             2.000000      2.000000      1.000000      2.000000   \n",
      "50%             2.000000      2.000000      3.000000      2.000000   \n",
      "75%             3.000000      2.000000      4.000000      4.000000   \n",
      "max             8.000000     13.000000      9.000000     20.000000   \n",
      "\n",
      "              VisitorType Weekend Revenue  \n",
      "count               12330   12330   12330  \n",
      "unique                  3       2       2  \n",
      "top     Returning_Visitor   False   False  \n",
      "freq                10551    9462   10422  \n",
      "mean                  NaN     NaN     NaN  \n",
      "std                   NaN     NaN     NaN  \n",
      "min                   NaN     NaN     NaN  \n",
      "25%                   NaN     NaN     NaN  \n",
      "50%                   NaN     NaN     NaN  \n",
      "75%                   NaN     NaN     NaN  \n",
      "max                   NaN     NaN     NaN  \n"
     ]
    }
   ],
   "source": [
    "summary = df.describe(include = 'all')\n",
    "print(summary)"
   ]
  },
  {
   "cell_type": "markdown",
   "metadata": {},
   "source": [
    "## Visualisation"
   ]
  },
  {
   "cell_type": "markdown",
   "metadata": {},
   "source": [
    "### Barplot of the Quantity Ordered by Product Category"
   ]
  },
  {
   "cell_type": "code",
   "execution_count": 5,
   "metadata": {},
   "outputs": [
    {
     "data": {
      "image/png": "[encoded data removed]",
      "text/plain": [
       "<Figure size 1000x600 with 1 Axes>"
      ]
     },
     "metadata": {},
     "output_type": "display_data"
    }
   ],
   "source": [
    "%matplotlib inline\n",
    "\n",
    "plt.figure(figsize=(10, 6))\n",
    "df.groupby('Month')['ProductRelated_Duration'].sum().plot(kind='bar')\n",
    "plt.title('Product Related Duration by Month')\n",
    "plt.xlabel('Month')\n",
    "plt.ylabel('Product Related Duration')\n",
    "plt.xticks(rotation=45)\n",
    "plt.tight_layout()\n",
    "plt.show()"
   ]
  },
  {
   "cell_type": "markdown",
   "metadata": {},
   "source": [
    "### Line graph of sales per month"
   ]
  },
  {
   "cell_type": "code",
   "execution_count": 6,
   "metadata": {},
   "outputs": [
    {
     "data": {
      "image/png": "[encoded data removed]",
      "text/plain": [
       "<Figure size 1000x600 with 1 Axes>"
      ]
     },
     "metadata": {},
     "output_type": "display_data"
    }
   ],
   "source": [
    "plt.figure(figsize=(10, 6))\n",
    "df.groupby('Region')['Revenue'].sum().plot(kind='bar')\n",
    "plt.title('Revenue by Region')\n",
    "plt.xlabel('Region')\n",
    "plt.ylabel('Revenue')\n",
    "plt.xticks(rotation=45)\n",
    "plt.tight_layout()\n",
    "plt.show()"
   ]
  },
  {
   "cell_type": "markdown",
   "metadata": {},
   "source": [
    "### Bar graph of the sales by city"
   ]
  },
  {
   "cell_type": "code",
   "execution_count": 7,
   "metadata": {},
   "outputs": [
    {
     "data": {
      "image/png": "[encoded data removed]",
      "text/plain": [
       "<Figure size 1000x600 with 1 Axes>"
      ]
     },
     "metadata": {},
     "output_type": "display_data"
    }
   ],
   "source": [
    "%matplotlib inline\n",
    "\n",
    "plt.figure(figsize=(10, 6))\n",
    "df.groupby('VisitorType')['Revenue'].sum().plot(kind='bar')\n",
    "plt.title('Revenue by Visitor Type')\n",
    "plt.xlabel('Visitor Type')\n",
    "plt.ylabel('Revenue')\n",
    "plt.xticks(rotation=45)\n",
    "plt.tight_layout()\n",
    "plt.show()"
   ]
  },
  {
   "cell_type": "markdown",
   "metadata": {},
   "source": [
    "### Bar graph of sales by time of day"
   ]
  },
  {
   "cell_type": "markdown",
   "metadata": {},
   "source": [
    "## Data Cleaning"
   ]
  },
  {
   "cell_type": "code",
   "execution_count": 8,
   "metadata": {},
   "outputs": [],
   "source": [
    "df.dropna(inplace=True)\n",
    "df.drop_duplicates(inplace=True)"
   ]
  },
  {
   "cell_type": "code",
   "execution_count": 9,
   "metadata": {},
   "outputs": [],
   "source": [
    "# Drop unnecessary columns\n",
    "df.drop(['Administrative', 'Administrative_Duration', 'Informational', 'Informational_Duration', 'PageValues', 'SpecialDay', 'Month', 'VisitorType'], axis=1, inplace=True)"
   ]
  },
  {
   "cell_type": "code",
   "execution_count": 10,
   "metadata": {},
   "outputs": [],
   "source": [
    "categorical_columns = ['OperatingSystems', 'Browser', 'Region', 'TrafficType', 'Weekend', 'Revenue']\n",
    "\n",
    "# Convert categorical columns to dummy variables\n",
    "df_dummies = pd.get_dummies(df, columns=categorical_columns, drop_first=False)"
   ]
  },
  {
   "cell_type": "markdown",
   "metadata": {},
   "source": [
    "## Feature Engineering"
   ]
  },
  {
   "cell_type": "markdown",
   "metadata": {},
   "source": [
    "### Separate features and target"
   ]
  },
  {
   "cell_type": "code",
   "execution_count": 11,
   "metadata": {},
   "outputs": [],
   "source": [
    "# Separate features and target\n",
    "X = df.drop('Revenue', axis=1).values\n",
    "y = df['Revenue'].values"
   ]
  },
  {
   "cell_type": "markdown",
   "metadata": {},
   "source": [
    "### Split the data into training and testing sets"
   ]
  },
  {
   "cell_type": "code",
   "execution_count": 12,
   "metadata": {},
   "outputs": [],
   "source": [
    "X_train, X_test, y_train, y_test = train_test_split(X, y, test_size=0.2, random_state=42)"
   ]
  },
  {
   "cell_type": "markdown",
   "metadata": {},
   "source": [
    "### Standardize the features"
   ]
  },
  {
   "cell_type": "code",
   "execution_count": 13,
   "metadata": {},
   "outputs": [],
   "source": [
    "scaler = StandardScaler()\n",
    "X_train = scaler.fit_transform(X_train)\n",
    "X_test = scaler.transform(X_test)"
   ]
  },
  {
   "cell_type": "markdown",
   "metadata": {},
   "source": [
    "### Convert to PyTorch tensors"
   ]
  },
  {
   "cell_type": "code",
   "execution_count": 14,
   "metadata": {},
   "outputs": [],
   "source": [
    "X_train = torch.tensor(X_train, dtype=torch.float32)\n",
    "X_test = torch.tensor(X_test, dtype=torch.float32)\n",
    "y_train = torch.tensor(y_train, dtype=torch.float32).view(-1, 1)\n",
    "y_test = torch.tensor(y_test, dtype=torch.float32).view(-1, 1)"
   ]
  },
  {
   "cell_type": "markdown",
   "metadata": {},
   "source": [
    "### Create DataLoader instances for training and testing"
   ]
  },
  {
   "cell_type": "code",
   "execution_count": 15,
   "metadata": {},
   "outputs": [],
   "source": [
    "batch_size = 64\n",
    "train_dataset = TensorDataset(X_train, y_train)\n",
    "test_dataset = TensorDataset(X_test, y_test)\n",
    "train_loader = DataLoader(train_dataset, batch_size=batch_size, shuffle=True)\n",
    "test_loader = DataLoader(test_dataset, batch_size=batch_size, shuffle=False)\n",
    "\n",
    "class SalesPredictionModel(nn.Module):\n",
    "    def __init__(self, input_dim):\n",
    "        super(SalesPredictionModel, self).__init__()\n",
    "        self.fc1 = nn.Linear(input_dim, 128)\n",
    "        self.fc2 = nn.Linear(128, 64)\n",
    "        self.fc3 = nn.Linear(64, 1)\n",
    "        self.relu = nn.ReLU()\n",
    "\n",
    "    def forward(self, x):\n",
    "        x = self.relu(self.fc1(x))\n",
    "        x = self.relu(self.fc2(x))\n",
    "        x = self.fc3(x)\n",
    "        return x"
   ]
  },
  {
   "cell_type": "markdown",
   "metadata": {},
   "source": [
    "### Initialize the model"
   ]
  },
  {
   "cell_type": "code",
   "execution_count": 16,
   "metadata": {},
   "outputs": [],
   "source": [
    "input_dim = X_train.shape[1]\n",
    "model = SalesPredictionModel(input_dim)"
   ]
  },
  {
   "cell_type": "markdown",
   "metadata": {},
   "source": [
    "### Define loss function and optimizer"
   ]
  },
  {
   "cell_type": "code",
   "execution_count": 17,
   "metadata": {},
   "outputs": [],
   "source": [
    "criterion = nn.MSELoss()\n",
    "optimizer = optim.Adam(model.parameters(), lr=0.001)\n",
    "\n",
    "def train_model(model, criterion, optimizer, train_loader, num_epochs=100):\n",
    "    for epoch in range(num_epochs):\n",
    "        model.train()\n",
    "        total_loss = 0\n",
    "        for batch_X, batch_y in train_loader:\n",
    "            optimizer.zero_grad()\n",
    "            outputs = model(batch_X)\n",
    "            loss = criterion(outputs, batch_y)\n",
    "            loss.backward()\n",
    "            optimizer.step()\n",
    "            total_loss += loss.item() * batch_X.size(0)\n",
    "        \n",
    "        epoch_loss = total_loss / len(train_loader.dataset)\n",
    "        if (epoch+1) % 10 == 0:\n",
    "            print(f'Epoch [{epoch+1}/{num_epochs}], Loss: {epoch_loss:.4f}')\n",
    "\n",
    "def evaluate_model(model, criterion, test_loader):\n",
    "    model.eval()\n",
    "    total_loss = 0\n",
    "    with torch.no_grad():\n",
    "        for batch_X, batch_y in test_loader:\n",
    "            outputs = model(batch_X)\n",
    "            loss = criterion(outputs, batch_y)\n",
    "            total_loss += loss.item() * batch_X.size(0)\n",
    "    \n",
    "    avg_loss = total_loss / len(test_loader.dataset)\n",
    "    return avg_loss"
   ]
  },
  {
   "cell_type": "markdown",
   "metadata": {},
   "source": [
    "### Train the model"
   ]
  },
  {
   "cell_type": "code",
   "execution_count": 18,
   "metadata": {},
   "outputs": [
    {
     "name": "stdout",
     "output_type": "stream",
     "text": [
      "Epoch [10/100], Loss: 0.1197\n",
      "Epoch [20/100], Loss: 0.1162\n",
      "Epoch [30/100], Loss: 0.1141\n",
      "Epoch [40/100], Loss: 0.1118\n",
      "Epoch [50/100], Loss: 0.1084\n",
      "Epoch [60/100], Loss: 0.1062\n",
      "Epoch [70/100], Loss: 0.1049\n",
      "Epoch [80/100], Loss: 0.1025\n",
      "Epoch [90/100], Loss: 0.0989\n",
      "Epoch [100/100], Loss: 0.0971\n"
     ]
    }
   ],
   "source": [
    "train_model(model, criterion, optimizer, train_loader, num_epochs=100)"
   ]
  },
  {
   "cell_type": "markdown",
   "metadata": {},
   "source": [
    "### Evaluate the model"
   ]
  },
  {
   "cell_type": "code",
   "execution_count": 19,
   "metadata": {},
   "outputs": [
    {
     "name": "stdout",
     "output_type": "stream",
     "text": [
      "Mean Squared Error on Test Set: 0.1376\n"
     ]
    }
   ],
   "source": [
    "test_loss = evaluate_model(model, criterion, test_loader)\n",
    "print(f'Mean Squared Error on Test Set: {test_loss:.4f}')"
   ]
  }
 ],
 "metadata": {
  "kernelspec": {
   "display_name": ".venv",
   "language": "python",
   "name": "python3"
  },
  "language_info": {
   "codemirror_mode": {
    "name": "ipython",
    "version": 3
   },
   "file_extension": ".py",
   "mimetype": "text/x-python",
   "name": "python",
   "nbconvert_exporter": "python",
   "pygments_lexer": "ipython3",
   "version": "3.11.4"
  }
 },
 "nbformat": 4,
 "nbformat_minor": 2
}
